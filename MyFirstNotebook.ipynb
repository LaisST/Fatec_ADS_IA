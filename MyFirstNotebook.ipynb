{
  "nbformat": 4,
  "nbformat_minor": 0,
  "metadata": {
    "colab": {
      "provenance": []
    },
    "kernelspec": {
      "name": "python3",
      "display_name": "Python 3"
    },
    "language_info": {
      "name": "python"
    }
  },
  "cells": [
    {
      "cell_type": "markdown",
      "source": [
        "#Diciplina Inteligência Artificial\n",
        "##Professora: Ana Tonão\n",
        "\n",
        "###DATA: 06/03/2023\n",
        "\n",
        "\n",
        "\n",
        "\n",
        "\n"
      ],
      "metadata": {
        "id": "0hjCTBblKChV"
      }
    },
    {
      "cell_type": "code",
      "execution_count": 4,
      "metadata": {
        "colab": {
          "base_uri": "https://localhost:8080/"
        },
        "id": "-eN_GnUQCnI7",
        "outputId": "1115fe8d-5d46-42f5-90b0-f7dd396e1b84"
      },
      "outputs": [
        {
          "output_type": "stream",
          "name": "stdout",
          "text": [
            "29\n",
            "1.5\n",
            "<class 'int'>\n",
            "<class 'float'>\n"
          ]
        }
      ],
      "source": [
        "#Aprendendo Jupter\n",
        "#Variaveis\n",
        "idade = 29\n",
        "print(idade)\n",
        "\n",
        "altura = 1.50\n",
        "print(altura)\n",
        "\n",
        "print(type(idade))\n",
        "print(type(altura))"
      ]
    },
    {
      "cell_type": "code",
      "source": [
        "#Operações Aritméticas\n",
        "x=1\n",
        "y=2\n",
        "z=3\n",
        "\n",
        "#adição\n",
        "print(x+y)\n",
        "#subtração\n",
        "print(z-y)\n",
        "#Multiplicação\n",
        "print(y*z)\n",
        "#Divisão\n",
        "print(z/y)"
      ],
      "metadata": {
        "colab": {
          "base_uri": "https://localhost:8080/"
        },
        "id": "0o1NKa6RK0P0",
        "outputId": "b47a95da-9cbc-4622-8d29-baa0bd0c7d9f"
      },
      "execution_count": 6,
      "outputs": [
        {
          "output_type": "stream",
          "name": "stdout",
          "text": [
            "3\n",
            "1\n",
            "6\n",
            "1.5\n"
          ]
        }
      ]
    },
    {
      "cell_type": "code",
      "source": [
        "#Estruturas de dados\n",
        "\n",
        "#Listas\n",
        "bilheteria = [320,420,100,200,300,400, 500, 600]\n",
        "print(bilheteria)\n",
        "print(type(bilheteria))\n",
        "\n",
        "dias_da_semana = ['Seg', 'Ter', 'Qua', 'Qui', 'Sex', 'Sab', 'Dom']\n",
        "print(dias_da_semana)\n",
        "\n",
        "#Acesso aos dados de uma lista\n",
        "print(bilheteria[0]) #Acessa o primeiro elemento\n",
        "print(bilheteria[-1]) #Acessa o ultimo elemento\n",
        "print(bilheteria[0:5]) #Acessa os elementos de 0 a 5 (exclusive)\n",
        "print(bilheteria[:5]) #Acessa os elementos de 0 a 5 (exclusive), usando omissão de indice\n",
        "\n",
        "#Operações Aritméticas\n",
        "media_bilheteria = (bilheteria[1]+bilheteria[2])/2\n",
        "print(media_bilheteria)\n",
        "\n",
        "\n",
        "\n"
      ],
      "metadata": {
        "colab": {
          "base_uri": "https://localhost:8080/"
        },
        "id": "v-rRWIkqLcTv",
        "outputId": "e8a169d9-d8f9-41bc-8e6a-3e3e2b914399"
      },
      "execution_count": 15,
      "outputs": [
        {
          "output_type": "stream",
          "name": "stdout",
          "text": [
            "[320, 420, 100, 200, 300, 400, 500, 600]\n",
            "<class 'list'>\n",
            "['Seg', 'Ter', 'Qua', 'Qui', 'Sex', 'Sab', 'Dom']\n",
            "320\n",
            "600\n",
            "[320, 420, 100, 200, 300]\n",
            "[320, 420, 100, 200, 300]\n",
            "260.0\n"
          ]
        }
      ]
    },
    {
      "cell_type": "code",
      "source": [
        "#copiar uma lista\n",
        "lista_copia = bilheteria.copy()\n",
        "lista_copia[0] = 340\n",
        "\n",
        "print(lista_copia)\n",
        "print(bilheteria)"
      ],
      "metadata": {
        "colab": {
          "base_uri": "https://localhost:8080/"
        },
        "id": "-XY0J-XlOEep",
        "outputId": "8bae7639-5ab5-4b7b-c4b2-d3d50f2fd5e0"
      },
      "execution_count": 16,
      "outputs": [
        {
          "output_type": "stream",
          "name": "stdout",
          "text": [
            "[340, 420, 100, 200, 300, 400, 500, 600]\n",
            "[320, 420, 100, 200, 300, 400, 500, 600]\n"
          ]
        }
      ]
    },
    {
      "cell_type": "code",
      "source": [
        "#MÉTODOS PARA LISTAS\n",
        "lista = [1,3,2,4]\n",
        "print(lista)\n",
        "\n",
        "#Append\n",
        "lista.append(10)\n",
        "print(lista)\n",
        "\n",
        "#extend\n",
        "lista.extend([12,12,12,12])\n",
        "print(lista)\n",
        "\n",
        "#count\n",
        "print(lista.count(12))\n",
        "\n",
        "#index\n",
        "print(lista.index(12))\n",
        "\n",
        "#insert\n",
        "lista.insert(2,5)\n",
        "print(lista)\n",
        "\n",
        "#pop\n",
        "lista.pop(2)\n",
        "print(lista)\n",
        "\n",
        "#remove\n",
        "lista.remove(12)\n",
        "print(lista)\n",
        "\n",
        "#sort\n",
        "lista.sort()\n",
        "print(lista)\n",
        "\n",
        "#reverse\n",
        "lista.reverse()\n",
        "print(lista)\n",
        "\n",
        "#clear\n",
        "lista.clear()\n",
        "print(lista)\n"
      ],
      "metadata": {
        "colab": {
          "base_uri": "https://localhost:8080/"
        },
        "id": "JSNcLP9vOFoc",
        "outputId": "d7184454-32a7-4a96-c960-cebca65f9587"
      },
      "execution_count": 30,
      "outputs": [
        {
          "output_type": "stream",
          "name": "stdout",
          "text": [
            "[1, 3, 2, 4]\n",
            "[1, 3, 2, 4, 10]\n",
            "[1, 3, 2, 4, 10, 12, 12, 12, 12]\n",
            "4\n",
            "5\n",
            "[1, 3, 5, 2, 4, 10, 12, 12, 12, 12]\n",
            "[1, 3, 2, 4, 10, 12, 12, 12, 12]\n",
            "[1, 3, 2, 4, 10, 12, 12, 12]\n",
            "[1, 2, 3, 4, 10, 12, 12, 12]\n",
            "[12, 12, 12, 10, 4, 3, 2, 1]\n",
            "[]\n"
          ]
        }
      ]
    },
    {
      "cell_type": "code",
      "source": [],
      "metadata": {
        "id": "eQFyDPpiPufV"
      },
      "execution_count": null,
      "outputs": []
    }
  ]
}